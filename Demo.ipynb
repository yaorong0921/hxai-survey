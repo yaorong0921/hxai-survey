{
 "cells": [
  {
   "cell_type": "markdown",
   "id": "bc58b89c",
   "metadata": {},
   "source": [
    "# Demo "
   ]
  },
  {
   "cell_type": "code",
   "execution_count": 1,
   "id": "f8e8e6f2",
   "metadata": {},
   "outputs": [],
   "source": [
    "from unicodedata import category\n",
    "import json\n",
    "import codecs\n",
    "from sklearn.manifold import TSNE\n",
    "import pandas as pd\n",
    "import seaborn as sns\n",
    "import matplotlib\n",
    "import matplotlib.pyplot as plt\n",
    "import numpy as np\n",
    "import copy\n",
    "import random\n",
    "import csv\n",
    "import re"
   ]
  },
  {
   "cell_type": "code",
   "execution_count": 2,
   "id": "0732e39b",
   "metadata": {},
   "outputs": [],
   "source": [
    "### get the list of all core papers\n",
    "##### start to add papers from each category\n",
    "import string\n",
    "types_of_encoding = [\"utf8\"] #\"cp1252\"\n",
    "title2idx= {}\n",
    "for encoding_type in types_of_encoding:\n",
    "    with codecs.open('./lists/idx_paper.csv', encoding = encoding_type, errors ='replace') as csvfile:\n",
    "      csvreader = csv.reader(csvfile)\n",
    "      for row in csvreader:\n",
    "            line = ''.join(row)\n",
    "            title = line.split(';')[-1]\n",
    "            # for character in string.punctuation:\n",
    "            #     title = title.replace(character, '')\n",
    "            title = re.sub(r'[^\\w\\s]', '', title)\n",
    "            title2idx[title.lower()] = int(row[0].split(';')[0])\n",
    "            \n",
    "idx2category = {}\n",
    "paper_unique = []\n",
    "for encoding_type in types_of_encoding:\n",
    "    with codecs.open('./lists/allpapers.csv', encoding = encoding_type, errors ='replace') as csvfile:\n",
    "      csvreader = csv.reader(csvfile)\n",
    "      for row in csvreader:\n",
    "            line = ''.join(row)\n",
    "            title = line.split(';')[1]\n",
    "            title = re.sub(r'[^\\w\\s]', '', title)\n",
    "            paper_unique.append(title)\n",
    "            if not title.lower() in title2idx.keys():\n",
    "                print(title)\n",
    "                continue\n",
    "            idx = title2idx[title.lower()]\n",
    "            if not idx in idx2category:\n",
    "                idx2category[idx] = []\n",
    "            idx2category[idx].append(line.split(';')[-1])\n",
    "\n",
    "idx2title = {}\n",
    "for k, v in title2idx.items():\n",
    "    idx2title[v] = k"
   ]
  },
  {
   "cell_type": "code",
   "execution_count": 3,
   "id": "fa1eabd2",
   "metadata": {},
   "outputs": [
    {
     "name": "stdout",
     "output_type": "stream",
     "text": [
      "# Core papers:  85\n"
     ]
    }
   ],
   "source": [
    "print('# Core papers: ', (len(list(set(paper_unique)))))"
   ]
  },
  {
   "cell_type": "code",
   "execution_count": 4,
   "id": "c15ded77",
   "metadata": {},
   "outputs": [],
   "source": [
    "category2idx = {'usability':[], 'trust':[], 'understanding': [], 'team': [], 'fairness': []}\n",
    "for k, v in idx2category.items():\n",
    "    for c in v:\n",
    "        category2idx[c].append(k)\n",
    "for k, v in category2idx.items():\n",
    "    category2idx[k] = list(set(v))"
   ]
  },
  {
   "cell_type": "code",
   "execution_count": 5,
   "id": "8f5bcf5a",
   "metadata": {},
   "outputs": [
    {
     "name": "stdout",
     "output_type": "stream",
     "text": [
      "Papers of the category fairness: \n",
      "==============================================================\n",
      "perception of fairness in group music recommender systems\n",
      "human perceptions of fairness in algorithmic decision making a case study of criminal risk prediction\n",
      "explanations as mechanisms for supporting algorithmic transparency\n",
      "appropriate fairness perceptions on the effectiveness of explanations in enabling people to assess the fairness of automated decision systems\n",
      "its reducing a human being to a percentage perceptions of justice in algorithmic decisions\n",
      "there is not enough information on the effects of explanations on perceptions of informational fairness and trustworthiness in automated decisionmaking\n",
      "explaining models an empirical study of how explanations impact fairness judgment\n",
      "an empirical study on the perceived fairness of realistic imperfect machine learning models\n",
      "datacentric explanations explaining training data of machine learning systems to promote transparency\n",
      "do humans prefer debiased ai algorithms a case study in career recommendation\n",
      "==============================================================\n"
     ]
    }
   ],
   "source": [
    "### list papers inside a category.\n",
    "### categories are 'trust', 'usability', 'understanding', 'team' and 'fairness'\n",
    "### e.g. print the papers of trust\n",
    "category = 'fairness'\n",
    "paper_list = category2idx[category]\n",
    "print('Papers of the category %s: '%category)\n",
    "print('==============================================================')\n",
    "\n",
    "for p in paper_list:\n",
    "    print(idx2title[p])\n",
    "print('==============================================================')"
   ]
  },
  {
   "cell_type": "code",
   "execution_count": null,
   "id": "187bbf1e",
   "metadata": {},
   "outputs": [],
   "source": []
  }
 ],
 "metadata": {
  "kernelspec": {
   "display_name": "Python 3 (ipykernel)",
   "language": "python",
   "name": "python3"
  },
  "language_info": {
   "codemirror_mode": {
    "name": "ipython",
    "version": 3
   },
   "file_extension": ".py",
   "mimetype": "text/x-python",
   "name": "python",
   "nbconvert_exporter": "python",
   "pygments_lexer": "ipython3",
   "version": "3.9.7"
  }
 },
 "nbformat": 4,
 "nbformat_minor": 5
}
