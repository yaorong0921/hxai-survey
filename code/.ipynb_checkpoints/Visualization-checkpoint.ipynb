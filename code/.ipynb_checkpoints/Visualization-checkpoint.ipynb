{
 "cells": [
  {
   "cell_type": "code",
   "execution_count": 17,
   "id": "ea299800",
   "metadata": {},
   "outputs": [
    {
     "name": "stderr",
     "output_type": "stream",
     "text": [
      "D:\\apps\\envs\\pytorch2\\lib\\site-packages\\tqdm\\auto.py:22: TqdmWarning: IProgress not found. Please update jupyter and ipywidgets. See https://ipywidgets.readthedocs.io/en/stable/user_install.html\n",
      "  from .autonotebook import tqdm as notebook_tqdm\n"
     ]
    }
   ],
   "source": [
    "from unicodedata import category\n",
    "import json\n",
    "import codecs\n",
    "from sklearn.manifold import TSNE\n",
    "import matplotlib\n",
    "import matplotlib.pyplot as plt\n",
    "import numpy as np\n",
    "import copy\n",
    "import random\n",
    "import csv\n",
    "import re\n",
    "from sentence_transformers import SentenceTransformer"
   ]
  },
  {
   "cell_type": "markdown",
   "id": "6ca4f803",
   "metadata": {},
   "source": [
    "# Plot for citation network"
   ]
  },
  {
   "cell_type": "code",
   "execution_count": 9,
   "id": "0f5d5f53",
   "metadata": {},
   "outputs": [],
   "source": [
    "### Open json file\n",
    "with open('./citation_dict_keyword.json') as f:\n",
    "    reference_dict_keyword = json.load(f)\n",
    "\n",
    "reference_dict_temp = copy.deepcopy(reference_dict_keyword)\n",
    "\n",
    "keyword_list = []\n",
    "dot_weight = []\n",
    "edge_candidates = []\n",
    "\n",
    "paper_list = []\n",
    "count_list = []\n",
    "id_list = []\n",
    "\n",
    "##### start to add papers from each category\n",
    "import string\n",
    "types_of_encoding = [\"utf8\"] #\"cp1252\"\n",
    "title2idx= {}\n",
    "for encoding_type in types_of_encoding:\n",
    "    with codecs.open('./idx_paper.csv', encoding = encoding_type, errors ='replace') as csvfile:\n",
    "        csvreader = csv.reader(csvfile)\n",
    "        for row in csvreader:\n",
    "            line = ''.join(row)\n",
    "            title = line.split(';')[-1]\n",
    "            # for character in string.punctuation:\n",
    "            #     title = title.replace(character, '')\n",
    "            title = re.sub(r'[^\\w\\s]', '', title)\n",
    "            title2idx[title.lower()] = int(row[0].split(';')[0])\n"
   ]
  },
  {
   "cell_type": "code",
   "execution_count": 19,
   "id": "095c43f5",
   "metadata": {},
   "outputs": [],
   "source": [
    "sentence_model = SentenceTransformer(\"all-mpnet-base-v2\")"
   ]
  },
  {
   "cell_type": "code",
   "execution_count": null,
   "id": "ae754c33",
   "metadata": {},
   "outputs": [
    {
     "name": "stdout",
     "output_type": "stream",
     "text": [
      "Trust\n",
      "explainable systems\n",
      "trust\n",
      "trust\n",
      "Explainable algorithmic decision-making systems\n",
      "cyberattacks\n",
      "Explainable active learning\n",
      "Artificial Intelligence\n",
      "human-AI collaboration\n"
     ]
    }
   ],
   "source": [
    "counter = 0\n",
    "edge_candidates = {}\n",
    "## read from dict and save key words\n",
    "for k, v_list in reference_dict_temp.items():\n",
    "    counter += len(v_list)\n",
    "    for v in v_list:\n",
    "        if 'keywords' in v:\n",
    "            #print(k, v['title'])\n",
    "            keywords = v['keywords']['keywords']\n",
    "            if len(keywords) > 1:\n",
    "                keyword = keywords[0]\n",
    "            else:\n",
    "                keyword = keywords\n",
    "\n",
    "            #candidates = [keyword[0] for keyword in keywords]\n",
    "            k_embedding = np.asarray([sentence_model.encode(k) for k in keyword])\n",
    "            k_embedding = k_embedding.mean(axis=0)\n",
    "\n",
    "            ### save the key word embeddings\n",
    "            # keyword_list.append(keywords[0][0])\n",
    "            # if keywords[0][0] == 'automation':\n",
    "            #     print(k, v['title'])\n",
    "            #dot_weight.append(v['count']*8)\n",
    "    \n",
    "            if not keyword in edge_candidates:\n",
    "                edge_candidates[keyword] = []\n",
    "            k = re.sub(r'[^\\w\\s]', '', k)\n",
    "            try:\n",
    "                edge_candidates[keywords[0]].append(title2idx[k])\n",
    "                keyword_list.append(keyword)\n",
    "            except:\n",
    "                continue\n"
   ]
  },
  {
   "cell_type": "code",
   "execution_count": null,
   "id": "a9c6d61b",
   "metadata": {},
   "outputs": [],
   "source": [
    "keyword_cls = list(set(keyword_list))\n",
    "dot_weight = np.zeros((len(keyword_cls)))\n",
    "keyword_embeddings = []\n",
    "label_group = []\n",
    "for kword in keyword_list:\n",
    "    label_group.append(keyword_cls.index(kword))\n",
    "    dot_weight[keyword_cls.index(kword)] += 1"
   ]
  },
  {
   "cell_type": "code",
   "execution_count": null,
   "id": "27a35427",
   "metadata": {},
   "outputs": [],
   "source": [
    "n_components = 2\n",
    "tsne = TSNE(n_components, random_state=40)\n"
   ]
  },
  {
   "cell_type": "code",
   "execution_count": null,
   "id": "5bb3dec5",
   "metadata": {},
   "outputs": [],
   "source": []
  }
 ],
 "metadata": {
  "kernelspec": {
   "display_name": "Python 3 (ipykernel)",
   "language": "python",
   "name": "python3"
  },
  "language_info": {
   "codemirror_mode": {
    "name": "ipython",
    "version": 3
   },
   "file_extension": ".py",
   "mimetype": "text/x-python",
   "name": "python",
   "nbconvert_exporter": "python",
   "pygments_lexer": "ipython3",
   "version": "3.10.9"
  }
 },
 "nbformat": 4,
 "nbformat_minor": 5
}
